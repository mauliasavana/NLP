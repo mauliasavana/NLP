{
  "nbformat": 4,
  "nbformat_minor": 0,
  "metadata": {
    "colab": {
      "name": "Submission_Maulia Savana Putri.ipynb",
      "provenance": [],
      "collapsed_sections": []
    },
    "kernelspec": {
      "name": "python3",
      "display_name": "Python 3"
    },
    "language_info": {
      "name": "python"
    }
  },
  "cells": [
    {
      "cell_type": "markdown",
      "metadata": {
        "id": "P42GdR8qIxsB"
      },
      "source": [
        "#About Me\n",
        "\n",
        "- Nama : Maulia Savana Putri\n",
        "- Email : mauliasavana72@gmail.com"
      ]
    },
    {
      "cell_type": "markdown",
      "metadata": {
        "id": "7ge_mVxEJQF2"
      },
      "source": [
        "#About Data\n",
        "\n",
        "Perform Text Classification on the data. The tweets have been pulled from Twitter and manual tagging has been done then.\n",
        "The names and usernames have been given codes to avoid any privacy concerns.\n",
        "\n",
        "Columns:\n",
        "- Location\n",
        "- Tweet At\n",
        "- Original Tweet\n",
        "- Label\n",
        "\n",
        "Link to download: https://drive.google.com/file/d/1NbdAbGSL0fgFe5FAL4rNqCB2Hv_EPPy4/view?usp=sharing"
      ]
    },
    {
      "cell_type": "markdown",
      "metadata": {
        "id": "HFgBaSVqJbPE"
      },
      "source": [
        ""
      ]
    },
    {
      "cell_type": "markdown",
      "metadata": {
        "id": "79PmfQCJ1j9W"
      },
      "source": [
        "#Import and Load Data"
      ]
    },
    {
      "cell_type": "code",
      "metadata": {
        "colab": {
          "base_uri": "https://localhost:8080/"
        },
        "id": "VvLfDijG024r",
        "outputId": "294c1840-fc1b-42f4-e376-9c4f597e163e"
      },
      "source": [
        "import pandas as pd\n",
        "import tensorflow as tf\n",
        "from tensorflow.keras.layers import Embedding, LSTM, Dense, Dropout, Bidirectional\n",
        "from tensorflow.keras.preprocessing.text import Tokenizer\n",
        "from tensorflow.keras.preprocessing.sequence import pad_sequences\n",
        "import matplotlib.pyplot as plt\n",
        "import  re\n",
        "import string\n",
        "import nltk\n",
        "nltk.download(\"stopwords\") \n",
        "from nltk.corpus import stopwords"
      ],
      "execution_count": 2,
      "outputs": [
        {
          "output_type": "stream",
          "text": [
            "[nltk_data] Downloading package stopwords to /root/nltk_data...\n",
            "[nltk_data]   Unzipping corpora/stopwords.zip.\n"
          ],
          "name": "stdout"
        }
      ]
    },
    {
      "cell_type": "code",
      "metadata": {
        "id": "lGB4Hbyct09f"
      },
      "source": [
        "df = pd.read_csv('/content/Corona_NLP.csv', encoding='latin_1')\n",
        "df = df[['OriginalTweet', 'Sentiment']]"
      ],
      "execution_count": 4,
      "outputs": []
    },
    {
      "cell_type": "code",
      "metadata": {
        "id": "qAwiofPJAtJy",
        "colab": {
          "base_uri": "https://localhost:8080/"
        },
        "outputId": "63155edc-0d54-46f4-9730-b11a62afe1f4"
      },
      "source": [
        "df.info()"
      ],
      "execution_count": 5,
      "outputs": [
        {
          "output_type": "stream",
          "text": [
            "<class 'pandas.core.frame.DataFrame'>\n",
            "RangeIndex: 44955 entries, 0 to 44954\n",
            "Data columns (total 2 columns):\n",
            " #   Column         Non-Null Count  Dtype \n",
            "---  ------         --------------  ----- \n",
            " 0   OriginalTweet  44955 non-null  object\n",
            " 1   Sentiment      44955 non-null  object\n",
            "dtypes: object(2)\n",
            "memory usage: 702.5+ KB\n"
          ],
          "name": "stdout"
        }
      ]
    },
    {
      "cell_type": "code",
      "metadata": {
        "colab": {
          "base_uri": "https://localhost:8080/",
          "height": 204
        },
        "id": "-9dwQmAtwrQM",
        "outputId": "f8e7f21b-7131-41a0-abf0-e3c6a9efedde"
      },
      "source": [
        "df.head()"
      ],
      "execution_count": 6,
      "outputs": [
        {
          "output_type": "execute_result",
          "data": {
            "text/html": [
              "<div>\n",
              "<style scoped>\n",
              "    .dataframe tbody tr th:only-of-type {\n",
              "        vertical-align: middle;\n",
              "    }\n",
              "\n",
              "    .dataframe tbody tr th {\n",
              "        vertical-align: top;\n",
              "    }\n",
              "\n",
              "    .dataframe thead th {\n",
              "        text-align: right;\n",
              "    }\n",
              "</style>\n",
              "<table border=\"1\" class=\"dataframe\">\n",
              "  <thead>\n",
              "    <tr style=\"text-align: right;\">\n",
              "      <th></th>\n",
              "      <th>OriginalTweet</th>\n",
              "      <th>Sentiment</th>\n",
              "    </tr>\n",
              "  </thead>\n",
              "  <tbody>\n",
              "    <tr>\n",
              "      <th>0</th>\n",
              "      <td>TRENDING: New Yorkers encounter empty supermar...</td>\n",
              "      <td>Extremely Negative</td>\n",
              "    </tr>\n",
              "    <tr>\n",
              "      <th>1</th>\n",
              "      <td>When I couldn't find hand sanitizer at Fred Me...</td>\n",
              "      <td>Positive</td>\n",
              "    </tr>\n",
              "    <tr>\n",
              "      <th>2</th>\n",
              "      <td>Find out how you can protect yourself and love...</td>\n",
              "      <td>Extremely Positive</td>\n",
              "    </tr>\n",
              "    <tr>\n",
              "      <th>3</th>\n",
              "      <td>#Panic buying hits #NewYork City as anxious sh...</td>\n",
              "      <td>Negative</td>\n",
              "    </tr>\n",
              "    <tr>\n",
              "      <th>4</th>\n",
              "      <td>#toiletpaper #dunnypaper #coronavirus #coronav...</td>\n",
              "      <td>Neutral</td>\n",
              "    </tr>\n",
              "  </tbody>\n",
              "</table>\n",
              "</div>"
            ],
            "text/plain": [
              "                                       OriginalTweet           Sentiment\n",
              "0  TRENDING: New Yorkers encounter empty supermar...  Extremely Negative\n",
              "1  When I couldn't find hand sanitizer at Fred Me...            Positive\n",
              "2  Find out how you can protect yourself and love...  Extremely Positive\n",
              "3  #Panic buying hits #NewYork City as anxious sh...            Negative\n",
              "4  #toiletpaper #dunnypaper #coronavirus #coronav...             Neutral"
            ]
          },
          "metadata": {
            "tags": []
          },
          "execution_count": 6
        }
      ]
    },
    {
      "cell_type": "markdown",
      "metadata": {
        "id": "8yCaByr64quC"
      },
      "source": [
        "#Preprocessing Data"
      ]
    },
    {
      "cell_type": "markdown",
      "metadata": {
        "id": "JmwhMzeD1wUm"
      },
      "source": [
        "##One Hot Encoding"
      ]
    },
    {
      "cell_type": "code",
      "metadata": {
        "colab": {
          "base_uri": "https://localhost:8080/",
          "height": 419
        },
        "id": "ZK5quEtUxKBi",
        "outputId": "ff3a1f64-4268-4354-c7fd-5b5302486f24"
      },
      "source": [
        "category = pd.get_dummies(df.Sentiment)\n",
        "df_baru = pd.concat([df, category], axis=1)\n",
        "df_baru = df_baru.drop(columns='Sentiment')\n",
        "df_baru"
      ],
      "execution_count": 7,
      "outputs": [
        {
          "output_type": "execute_result",
          "data": {
            "text/html": [
              "<div>\n",
              "<style scoped>\n",
              "    .dataframe tbody tr th:only-of-type {\n",
              "        vertical-align: middle;\n",
              "    }\n",
              "\n",
              "    .dataframe tbody tr th {\n",
              "        vertical-align: top;\n",
              "    }\n",
              "\n",
              "    .dataframe thead th {\n",
              "        text-align: right;\n",
              "    }\n",
              "</style>\n",
              "<table border=\"1\" class=\"dataframe\">\n",
              "  <thead>\n",
              "    <tr style=\"text-align: right;\">\n",
              "      <th></th>\n",
              "      <th>OriginalTweet</th>\n",
              "      <th>Extremely Negative</th>\n",
              "      <th>Extremely Positive</th>\n",
              "      <th>Negative</th>\n",
              "      <th>Neutral</th>\n",
              "      <th>Positive</th>\n",
              "    </tr>\n",
              "  </thead>\n",
              "  <tbody>\n",
              "    <tr>\n",
              "      <th>0</th>\n",
              "      <td>TRENDING: New Yorkers encounter empty supermar...</td>\n",
              "      <td>1</td>\n",
              "      <td>0</td>\n",
              "      <td>0</td>\n",
              "      <td>0</td>\n",
              "      <td>0</td>\n",
              "    </tr>\n",
              "    <tr>\n",
              "      <th>1</th>\n",
              "      <td>When I couldn't find hand sanitizer at Fred Me...</td>\n",
              "      <td>0</td>\n",
              "      <td>0</td>\n",
              "      <td>0</td>\n",
              "      <td>0</td>\n",
              "      <td>1</td>\n",
              "    </tr>\n",
              "    <tr>\n",
              "      <th>2</th>\n",
              "      <td>Find out how you can protect yourself and love...</td>\n",
              "      <td>0</td>\n",
              "      <td>1</td>\n",
              "      <td>0</td>\n",
              "      <td>0</td>\n",
              "      <td>0</td>\n",
              "    </tr>\n",
              "    <tr>\n",
              "      <th>3</th>\n",
              "      <td>#Panic buying hits #NewYork City as anxious sh...</td>\n",
              "      <td>0</td>\n",
              "      <td>0</td>\n",
              "      <td>1</td>\n",
              "      <td>0</td>\n",
              "      <td>0</td>\n",
              "    </tr>\n",
              "    <tr>\n",
              "      <th>4</th>\n",
              "      <td>#toiletpaper #dunnypaper #coronavirus #coronav...</td>\n",
              "      <td>0</td>\n",
              "      <td>0</td>\n",
              "      <td>0</td>\n",
              "      <td>1</td>\n",
              "      <td>0</td>\n",
              "    </tr>\n",
              "    <tr>\n",
              "      <th>...</th>\n",
              "      <td>...</td>\n",
              "      <td>...</td>\n",
              "      <td>...</td>\n",
              "      <td>...</td>\n",
              "      <td>...</td>\n",
              "      <td>...</td>\n",
              "    </tr>\n",
              "    <tr>\n",
              "      <th>44950</th>\n",
              "      <td>Airline pilots offering to stock supermarket s...</td>\n",
              "      <td>0</td>\n",
              "      <td>0</td>\n",
              "      <td>0</td>\n",
              "      <td>1</td>\n",
              "      <td>0</td>\n",
              "    </tr>\n",
              "    <tr>\n",
              "      <th>44951</th>\n",
              "      <td>Response to complaint not provided citing COVI...</td>\n",
              "      <td>1</td>\n",
              "      <td>0</td>\n",
              "      <td>0</td>\n",
              "      <td>0</td>\n",
              "      <td>0</td>\n",
              "    </tr>\n",
              "    <tr>\n",
              "      <th>44952</th>\n",
              "      <td>You know itÂs getting tough when @KameronWild...</td>\n",
              "      <td>0</td>\n",
              "      <td>0</td>\n",
              "      <td>0</td>\n",
              "      <td>0</td>\n",
              "      <td>1</td>\n",
              "    </tr>\n",
              "    <tr>\n",
              "      <th>44953</th>\n",
              "      <td>Is it wrong that the smell of hand sanitizer i...</td>\n",
              "      <td>0</td>\n",
              "      <td>0</td>\n",
              "      <td>0</td>\n",
              "      <td>1</td>\n",
              "      <td>0</td>\n",
              "    </tr>\n",
              "    <tr>\n",
              "      <th>44954</th>\n",
              "      <td>@TartiiCat Well new/used Rift S are going for ...</td>\n",
              "      <td>0</td>\n",
              "      <td>0</td>\n",
              "      <td>1</td>\n",
              "      <td>0</td>\n",
              "      <td>0</td>\n",
              "    </tr>\n",
              "  </tbody>\n",
              "</table>\n",
              "<p>44955 rows × 6 columns</p>\n",
              "</div>"
            ],
            "text/plain": [
              "                                           OriginalTweet  ...  Positive\n",
              "0      TRENDING: New Yorkers encounter empty supermar...  ...         0\n",
              "1      When I couldn't find hand sanitizer at Fred Me...  ...         1\n",
              "2      Find out how you can protect yourself and love...  ...         0\n",
              "3      #Panic buying hits #NewYork City as anxious sh...  ...         0\n",
              "4      #toiletpaper #dunnypaper #coronavirus #coronav...  ...         0\n",
              "...                                                  ...  ...       ...\n",
              "44950  Airline pilots offering to stock supermarket s...  ...         0\n",
              "44951  Response to complaint not provided citing COVI...  ...         0\n",
              "44952  You know itÂs getting tough when @KameronWild...  ...         1\n",
              "44953  Is it wrong that the smell of hand sanitizer i...  ...         0\n",
              "44954  @TartiiCat Well new/used Rift S are going for ...  ...         0\n",
              "\n",
              "[44955 rows x 6 columns]"
            ]
          },
          "metadata": {
            "tags": []
          },
          "execution_count": 7
        }
      ]
    },
    {
      "cell_type": "markdown",
      "metadata": {
        "id": "-rp-mLhh11BJ"
      },
      "source": [
        "##Cleaning Data"
      ]
    },
    {
      "cell_type": "code",
      "metadata": {
        "id": "VB4tCSi-CNio"
      },
      "source": [
        "stop_words = stopwords.words(\"english\")"
      ],
      "execution_count": 8,
      "outputs": []
    },
    {
      "cell_type": "code",
      "metadata": {
        "id": "K0qZFPAFBe1c"
      },
      "source": [
        "# clean unwanted text like stopwords, @(Mention), https(url), #(Hashtag), punctuations\n",
        "def removeUnwantedText(text):\n",
        "    #remove urls\n",
        "    text = re.sub(r'http\\S+', \" \", text)\n",
        "    \n",
        "    #remove mentions\n",
        "    text = re.sub(r'@\\w+',' ',text)\n",
        "    \n",
        "    #remove hastags\n",
        "    text = re.sub(r'#\\w+', ' ', text)\n",
        "    \n",
        "    #remove html tags\n",
        "    text = re.sub('r<.*?>',' ', text)\n",
        "    \n",
        "     #remove stop words \n",
        "    text = text.split()\n",
        "    text = \" \".join([word for word in text if not word in stop_words])\n",
        "    \n",
        "    for punctuation in string.punctuation:\n",
        "        text = text.replace(punctuation, \"\")\n",
        "    return text"
      ],
      "execution_count": 9,
      "outputs": []
    },
    {
      "cell_type": "code",
      "metadata": {
        "id": "0s28LWzOBpdk"
      },
      "source": [
        "df_baru['OriginalTweet'] = df_baru['OriginalTweet'].apply(lambda x: removeUnwantedText(x))"
      ],
      "execution_count": 10,
      "outputs": []
    },
    {
      "cell_type": "markdown",
      "metadata": {
        "id": "3i-fYnLI2W6k"
      },
      "source": [
        "##Separate attributes and labels"
      ]
    },
    {
      "cell_type": "code",
      "metadata": {
        "id": "uvSSxmwcxuaA"
      },
      "source": [
        "tweet = df_baru['OriginalTweet'].values\n",
        "label = df_baru[['Extremely Negative', 'Extremely Positive', 'Negative', 'Neutral', 'Positive']].values"
      ],
      "execution_count": 11,
      "outputs": []
    },
    {
      "cell_type": "code",
      "metadata": {
        "id": "Sebcifvg0KVz"
      },
      "source": [
        "from sklearn.model_selection import train_test_split\n",
        "tweet_latih, tweet_test, label_latih, label_test = train_test_split(tweet, label, test_size=0.2)"
      ],
      "execution_count": 12,
      "outputs": []
    },
    {
      "cell_type": "markdown",
      "metadata": {
        "id": "_mGSqzTb2dET"
      },
      "source": [
        "#Tokenization and Sequences"
      ]
    },
    {
      "cell_type": "code",
      "metadata": {
        "id": "9Udm-gDe0rqn"
      },
      "source": [
        "tokenizer = Tokenizer(num_words=10000, oov_token='x')\n",
        "tokenizer.fit_on_texts(tweet_latih) \n",
        "tokenizer.fit_on_texts(tweet_test)\n",
        " \n",
        "sekuens_latih = tokenizer.texts_to_sequences(tweet_latih)\n",
        "sekuens_test = tokenizer.texts_to_sequences(tweet_test)\n",
        " \n",
        "padded_latih = pad_sequences(sekuens_latih) \n",
        "padded_test = pad_sequences(sekuens_test)"
      ],
      "execution_count": 13,
      "outputs": []
    },
    {
      "cell_type": "markdown",
      "metadata": {
        "id": "-TYs9ysK2y7N"
      },
      "source": [
        "#Architectural Model"
      ]
    },
    {
      "cell_type": "code",
      "metadata": {
        "id": "N2Ehq9dH0rdc"
      },
      "source": [
        "model = tf.keras.Sequential([\n",
        "    Embedding(input_dim=10000, output_dim=16),\n",
        "    LSTM(512, dropout=0.5),\n",
        "    tf.keras.layers.Flatten(),\n",
        "    Dense(5, activation='softmax')\n",
        "])\n",
        "model.compile(loss='categorical_crossentropy',optimizer='adam',metrics=['accuracy'])"
      ],
      "execution_count": 37,
      "outputs": []
    },
    {
      "cell_type": "markdown",
      "metadata": {
        "id": "qFv4VFUR23j1"
      },
      "source": [
        "#Callbacks"
      ]
    },
    {
      "cell_type": "code",
      "metadata": {
        "id": "70K5A3ZZIGaF"
      },
      "source": [
        "class myCallback(tf.keras.callbacks.Callback):\n",
        "  def on_epoch_end(self, epoch, logs={}):\n",
        "    if(logs.get('val_accuracy')>0.9):\n",
        "      print(\"\\nAkurasi telah mencapai >90%!\")\n",
        "      self.model.stop_training = True\n",
        "callbacks = myCallback()"
      ],
      "execution_count": 15,
      "outputs": []
    },
    {
      "cell_type": "code",
      "metadata": {
        "colab": {
          "base_uri": "https://localhost:8080/"
        },
        "id": "uJ5xSd4A1Lcy",
        "outputId": "ae874def-8cad-4b76-e5da-a9d23d2da7ff"
      },
      "source": [
        "num_epochs = 20\n",
        "history = model.fit(padded_latih, label_latih, batch_size=256, epochs=num_epochs, \n",
        "                    validation_data=(padded_test, label_test), verbose=2, callbacks=[callbacks])"
      ],
      "execution_count": 38,
      "outputs": [
        {
          "output_type": "stream",
          "text": [
            "Epoch 1/20\n",
            "141/141 - 253s - loss: 1.5560 - accuracy: 0.2881 - val_loss: 1.4742 - val_accuracy: 0.3074\n",
            "Epoch 2/20\n",
            "141/141 - 258s - loss: 1.2206 - accuracy: 0.4880 - val_loss: 1.0349 - val_accuracy: 0.5821\n",
            "Epoch 3/20\n",
            "141/141 - 259s - loss: 0.9306 - accuracy: 0.6270 - val_loss: 0.8511 - val_accuracy: 0.6815\n",
            "Epoch 4/20\n",
            "141/141 - 255s - loss: 0.7913 - accuracy: 0.6925 - val_loss: 0.7603 - val_accuracy: 0.7256\n",
            "Epoch 5/20\n",
            "141/141 - 252s - loss: 0.7131 - accuracy: 0.7338 - val_loss: 0.7321 - val_accuracy: 0.7366\n",
            "Epoch 6/20\n",
            "141/141 - 252s - loss: 0.6650 - accuracy: 0.7553 - val_loss: 0.7095 - val_accuracy: 0.7493\n",
            "Epoch 7/20\n",
            "141/141 - 251s - loss: 0.6384 - accuracy: 0.7683 - val_loss: 0.6911 - val_accuracy: 0.7592\n",
            "Epoch 8/20\n",
            "141/141 - 255s - loss: 0.5994 - accuracy: 0.7826 - val_loss: 0.6857 - val_accuracy: 0.7583\n",
            "Epoch 9/20\n",
            "141/141 - 260s - loss: 0.5817 - accuracy: 0.7908 - val_loss: 0.6775 - val_accuracy: 0.7688\n",
            "Epoch 10/20\n",
            "141/141 - 254s - loss: 0.5601 - accuracy: 0.8000 - val_loss: 0.6771 - val_accuracy: 0.7715\n",
            "Epoch 11/20\n",
            "141/141 - 255s - loss: 0.5452 - accuracy: 0.8055 - val_loss: 0.6871 - val_accuracy: 0.7632\n",
            "Epoch 12/20\n",
            "141/141 - 264s - loss: 0.5568 - accuracy: 0.8057 - val_loss: 0.6806 - val_accuracy: 0.7662\n",
            "Epoch 13/20\n",
            "141/141 - 259s - loss: 0.5255 - accuracy: 0.8156 - val_loss: 0.6907 - val_accuracy: 0.7703\n",
            "Epoch 14/20\n",
            "141/141 - 258s - loss: 0.5158 - accuracy: 0.8188 - val_loss: 0.6851 - val_accuracy: 0.7739\n",
            "Epoch 15/20\n",
            "141/141 - 252s - loss: 0.5032 - accuracy: 0.8215 - val_loss: 0.6937 - val_accuracy: 0.7669\n",
            "Epoch 16/20\n",
            "141/141 - 254s - loss: 0.4874 - accuracy: 0.8297 - val_loss: 0.7026 - val_accuracy: 0.7710\n",
            "Epoch 17/20\n",
            "141/141 - 255s - loss: 0.4937 - accuracy: 0.8263 - val_loss: 0.6993 - val_accuracy: 0.7662\n",
            "Epoch 18/20\n",
            "141/141 - 253s - loss: 0.4719 - accuracy: 0.8352 - val_loss: 0.7100 - val_accuracy: 0.7665\n",
            "Epoch 19/20\n",
            "141/141 - 259s - loss: 0.4671 - accuracy: 0.8358 - val_loss: 0.6992 - val_accuracy: 0.7692\n",
            "Epoch 20/20\n",
            "141/141 - 259s - loss: 0.4587 - accuracy: 0.8400 - val_loss: 0.7109 - val_accuracy: 0.7673\n"
          ],
          "name": "stdout"
        }
      ]
    },
    {
      "cell_type": "markdown",
      "metadata": {
        "id": "qFpPTeaxGqO7"
      },
      "source": [
        "#Plot Loss and Accuracy"
      ]
    },
    {
      "cell_type": "code",
      "metadata": {
        "colab": {
          "base_uri": "https://localhost:8080/",
          "height": 295
        },
        "id": "IiTZ-r3FDuQN",
        "outputId": "e3b59463-ac62-41b9-ff5b-998100dae07f"
      },
      "source": [
        "plt.plot(history.history['loss'], label='Train')\n",
        "plt.plot(history.history['val_loss'], label='Validation')\n",
        "plt.title('Model loss')\n",
        "plt.ylabel('Loss')\n",
        "plt.xlabel('Epoch')\n",
        "plt.legend(loc='upper right')\n",
        "plt.show()"
      ],
      "execution_count": 39,
      "outputs": [
        {
          "output_type": "display_data",
          "data": {
            "image/png": "[encoded data removed]",
            "text/plain": [
              "<Figure size 432x288 with 1 Axes>"
            ]
          },
          "metadata": {
            "tags": [],
            "needs_background": "light"
          }
        }
      ]
    },
    {
      "cell_type": "code",
      "metadata": {
        "colab": {
          "base_uri": "https://localhost:8080/",
          "height": 295
        },
        "id": "gdKn_cB7Ge3n",
        "outputId": "5b5a4629-49e1-4c3d-c103-9970d8a915e8"
      },
      "source": [
        "plt.plot(history.history['accuracy'], label='Train')\n",
        "plt.plot(history.history['val_accuracy'], label='Validation')\n",
        "plt.title('Model loss')\n",
        "plt.ylabel('Loss')\n",
        "plt.xlabel('Epoch')\n",
        "plt.legend(loc='upper right')\n",
        "plt.show()"
      ],
      "execution_count": 40,
      "outputs": [
        {
          "output_type": "display_data",
          "data": {
            "image/png": "[encoded data removed]",
            "text/plain": [
              "<Figure size 432x288 with 1 Axes>"
            ]
          },
          "metadata": {
            "tags": [],
            "needs_background": "light"
          }
        }
      ]
    }
  ]
}